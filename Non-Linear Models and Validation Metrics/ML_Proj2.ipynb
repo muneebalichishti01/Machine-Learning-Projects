{
  "cells": [
    {
      "cell_type": "markdown",
      "id": "CNDKREiQRJJX",
      "metadata": {
        "id": "CNDKREiQRJJX"
      },
      "source": [
        "<font size=\"+3\"><b>Non-Linear Models and Validation Metrics</b></font>"
      ]
    },
    {
      "cell_type": "markdown",
      "id": "ce31b39a",
      "metadata": {
        "id": "ce31b39a"
      },
      "source": [
        "<font color='Red'>\n",
        "In this project, we will need to write code that uses non-linear models to perform classification and regression tasks. We will also be describing the process by whichthe code was written. More details can be found below. Any websites or AI tools used will be cited, if used.</font>\n",
        "\n",
        "NOTE: You may use the Table of Content on the left side of this notebook to efficiently navigate within this document/project.\n",
        "\n",
        "---\n",
        "\n",
        "|                **Question**                |\n",
        "|:------------------------------------------:|\n",
        "|           **Part 1: Regression**           |  \n",
        "|          Step 0: Import Libraries          |          \n",
        "|             Step 1: Data Input             |    \n",
        "|           Step 2: Data Processing          |     \n",
        "| Step 3: Implement   Machine Learning Model |    \n",
        "|           Step 4: Validate Model           |    \n",
        "|         Step 5: Visualize   Results        |     \n",
        "|                  Questions                 |    \n",
        "|             Process Description            |     \n",
        "|         **Part 2: Classification**         |\n",
        "|             Step 1: Data Input             |    \n",
        "|           Step 2: Data Processing          |    \n",
        "| Step 3: Implement   Machine Learning Model |           \n",
        "|            Step 4: Validate Mode           |           \n",
        "|         Step 5: Visualize   Results        |    \n",
        "|                  Questions                 |     \n",
        "|             Process Description            |\n",
        "|         **Part 3: LinearSVC**         |  "
      ]
    },
    {
      "cell_type": "markdown",
      "id": "cf275ca7",
      "metadata": {
        "id": "cf275ca7"
      },
      "source": [
        "### Import Libraries"
      ]
    },
    {
      "cell_type": "code",
      "execution_count": 1,
      "id": "2b67a661",
      "metadata": {
        "id": "2b67a661"
      },
      "outputs": [],
      "source": [
        "import numpy as np\n",
        "import pandas as pd\n",
        "import matplotlib.pyplot as plt\n",
        "import seaborn as sns"
      ]
    },
    {
      "cell_type": "markdown",
      "id": "5ee2d2c3",
      "metadata": {
        "id": "5ee2d2c3"
      },
      "source": [
        "# **Part 1: Regression**\n",
        "\n",
        "For this section, we will be continuing with the concrete example from yellowbrick. We will be comparing these results to the results from the project 1, where we used linear models."
      ]
    },
    {
      "cell_type": "markdown",
      "id": "8219f163",
      "metadata": {
        "id": "8219f163"
      },
      "source": [
        "## **Step 1:** Data Input\n",
        "\n",
        "The data used for this task can be downloaded using the yellowbrick library:\n",
        "https://www.scikit-yb.org/en/latest/api/datasets/concrete.html\n",
        "\n",
        "Using the yellowbrick function `load_concrete()` to load the concrete dataset into the feature matrix `X` and target vector `y`."
      ]
    },
    {
      "cell_type": "code",
      "execution_count": 2,
      "id": "2af8bd32",
      "metadata": {
        "id": "2af8bd32"
      },
      "outputs": [],
      "source": [
        "# Import concrete dataset from yellowbrick library\n",
        "from yellowbrick.datasets import load_concrete\n",
        "\n",
        "# Load the concrete dataset\n",
        "X, y = load_concrete()"
      ]
    },
    {
      "cell_type": "markdown",
      "id": "42fea4cc",
      "metadata": {
        "id": "42fea4cc"
      },
      "source": [
        "## **Step 2:** Data Processing\n",
        "\n",
        "Data processing was completed in the previous project already. We do not need to repeat that here again."
      ]
    },
    {
      "cell_type": "markdown",
      "id": "2a245d00",
      "metadata": {
        "id": "2a245d00"
      },
      "source": [
        "## **Step 3:** Implement Machine Learning Model\n",
        "\n",
        "1. Importing the Decision Tree, Random Forest and Gradient Boosting Machines regression models from sklearn\n",
        "2. Instantiating the three models with `max_depth = 5`\n",
        "3. Implementing each machine learning model with `X` and `y`"
      ]
    },
    {
      "cell_type": "markdown",
      "id": "3f994e31",
      "metadata": {
        "id": "3f994e31"
      },
      "source": [
        "## **Step 4:** Validate Model\n",
        "\n",
        "Calculating the average training and validation accuracy using mean squared error with cross-validation. To do this, we will be setting `scoring='neg_mean_squared_error'` in our `cross_validate` function and will negate the results (multiply by -1)"
      ]
    },
    {
      "cell_type": "markdown",
      "id": "5fc3f7a8",
      "metadata": {
        "id": "5fc3f7a8"
      },
      "source": [
        "## **Step 5:** Visualize Results\n",
        "\n",
        "1. Creating a pandas DataFrame `results` with columns: Training accuracy and Validation accuracy, and index: DT, RF and GB\n",
        "2. Adding the accuracy results to the `results` DataFrame\n",
        "3. Printing `results`"
      ]
    },
    {
      "cell_type": "code",
      "execution_count": 3,
      "id": "fdc93a78",
      "metadata": {
        "id": "fdc93a78"
      },
      "outputs": [
        {
          "name": "stdout",
          "output_type": "stream",
          "text": [
            "    Training accuracy  Validation accuracy\n",
            "DT          30.804969           244.559027\n",
            "RF          22.009196           233.010203\n",
            "GB           2.100764           157.240330\n"
          ]
        }
      ],
      "source": [
        "from sklearn.tree import DecisionTreeRegressor\n",
        "from sklearn.ensemble import RandomForestRegressor, GradientBoostingRegressor\n",
        "from sklearn.model_selection import cross_validate\n",
        "\n",
        "# Instantiating the models\n",
        "dt_model = DecisionTreeRegressor(max_depth=5, random_state=0)\n",
        "rf_model = RandomForestRegressor(max_depth=5, random_state=0, n_estimators=100)\n",
        "gb_model = GradientBoostingRegressor(max_depth=5, random_state=0, n_estimators=100, learning_rate=0.1)\n",
        "\n",
        "# Implementing each machine learning model\n",
        "# dt_model.fit(X, y)\n",
        "# rf_model.fit(X, y)\n",
        "# gb_model.fit(X, y)\n",
        "\n",
        "# Defining the scoring metric for cross-validation (repetitive code)\n",
        "scoring_var = 'neg_mean_squared_error'\n",
        "\n",
        "# Performing cross-validation for each model\n",
        "dt_scores = cross_validate(dt_model, X, y, scoring=scoring_var, cv=2, return_train_score=True)\n",
        "rf_scores = cross_validate(rf_model, X, y, scoring=scoring_var, cv=2, return_train_score=True)\n",
        "gb_scores = cross_validate(gb_model, X, y, scoring=scoring_var, cv=2, return_train_score=True)\n",
        "\n",
        "# Calculating the average training and validation accuracy\n",
        "dt_train_avg = dt_scores['train_score'].mean()\n",
        "dt_test_avg = dt_scores['test_score'].mean()\n",
        "\n",
        "rf_train_avg = rf_scores['train_score'].mean()\n",
        "rf_test_avg = rf_scores['test_score'].mean()\n",
        "\n",
        "gb_train_avg = gb_scores['train_score'].mean()\n",
        "gb_test_avg = gb_scores['test_score'].mean()\n",
        "\n",
        "tmp_results_test= [dt_test_avg, rf_test_avg, gb_test_avg]\n",
        "tmp_results_train = [dt_train_avg, rf_train_avg, gb_train_avg]\n",
        "new_results_train, new_results_test = [], []\n",
        "\n",
        "for i in range(len(tmp_results_test)):\n",
        "    new_results_train.append(tmp_results_train[i] * -1)\n",
        "    new_results_test.append(tmp_results_test[i] * -1)\n",
        "\n",
        "# Creating a pandas DataFrame to store the results\n",
        "results = pd.DataFrame({\"Training accuracy\": new_results_train, \"Validation accuracy\": new_results_test}, index=['DT', 'RF', 'GB'])\n",
        "\n",
        "# Printing the results\n",
        "print(results)"
      ]
    },
    {
      "cell_type": "markdown",
      "id": "31715a9d",
      "metadata": {
        "id": "31715a9d"
      },
      "source": [
        "Repeating the step above to print the R2 score instead of the mean-squared error. For this case, we can now use `scoring='r2'`."
      ]
    },
    {
      "cell_type": "code",
      "execution_count": 4,
      "id": "83539f47",
      "metadata": {
        "id": "83539f47"
      },
      "outputs": [
        {
          "name": "stdout",
          "output_type": "stream",
          "text": [
            "    Training accuracy  Validation accuracy\n",
            "DT           0.867502            -0.080545\n",
            "RF           0.905799            -0.030577\n",
            "GB           0.991863             0.308657\n"
          ]
        }
      ],
      "source": [
        "# Defining the scoring metric for cross-validation (repetitive code)\n",
        "scoring_var = 'r2'\n",
        "\n",
        "# Performing cross-validation for each model with r2 scoring\n",
        "dt_scores_r2 = cross_validate(dt_model, X, y, scoring=scoring_var, cv=2, return_train_score=True)\n",
        "rf_scores_r2 = cross_validate(rf_model, X, y, scoring=scoring_var, cv=2, return_train_score=True)\n",
        "gb_scores_r2 = cross_validate(gb_model, X, y, scoring=scoring_var, cv=2, return_train_score=True)\n",
        "\n",
        "# Calculating the average training and validation accuracy\n",
        "dt_train_avg = dt_scores_r2['train_score'].mean()\n",
        "dt_test_avg = dt_scores_r2['test_score'].mean()\n",
        "\n",
        "rf_train_avg = rf_scores_r2['train_score'].mean()\n",
        "rf_test_avg = rf_scores_r2['test_score'].mean()\n",
        "\n",
        "gb_train_avg = gb_scores_r2['train_score'].mean()\n",
        "gb_test_avg = gb_scores_r2['test_score'].mean()\n",
        "\n",
        "tmp_results_test= [dt_test_avg, rf_test_avg, gb_test_avg]\n",
        "tmp_results_train = [dt_train_avg, rf_train_avg, gb_train_avg]\n",
        "new_results_train, new_results_test = [], []\n",
        "\n",
        "for i in range(len(tmp_results_test)):\n",
        "    new_results_train.append(tmp_results_train[i])\n",
        "    new_results_test.append(tmp_results_test[i])\n",
        "\n",
        "# Creating a pandas DataFrame to store the results\n",
        "results_r2 = pd.DataFrame({\"Training accuracy\": new_results_train, \"Validation accuracy\": new_results_test}, index=['DT', 'RF', 'GB'])\n",
        "\n",
        "# Printing the results\n",
        "print(results_r2)"
      ]
    },
    {
      "cell_type": "markdown",
      "id": "a5257a98",
      "metadata": {
        "id": "a5257a98"
      },
      "source": [
        "## **Practice descriptive questions & answers for theoratical understanding**\n",
        "1. How do these results compare to the results using a linear model in the previous assignment? Use values.\n",
        "1. Out of the models you tested, which model would you select for this dataset and why?\n",
        "1. If you wanted to increase the accuracy of the tree-based models, what would you do? Provide two suggestions."
      ]
    },
    {
      "cell_type": "markdown",
      "id": "2PRnpiFjVDzv",
      "metadata": {
        "id": "2PRnpiFjVDzv"
      },
      "source": [
        "<font color='Green'><b>\n",
        "1. The results obtained using non-linear models (Decision Tree, Random Forest, and Gradient Boosting) are of course expected to be different from the results obtained using a linear model, as we did in assignment 2. Since linear model assumes a linear relationship between the features and the target variable and non-linear models capture more complex relationships, the non-linear models are expected to perform better than the linear model. However, results are very poor in this case. The R2 score on the previous assignment was 0.636898 but the score on this assignment is achieved to be -0.080545 for the Decision Tree model. Additionally, the Random Forest model achieved a score of -0.030577 and the Gradient Boosting model achieved a score of 0.308657. It can be observed clearly that there is a significant drop here and even negative values for some, showing that the non-linear models are not performing well at all on this dataset. \n",
        "\n",
        "2. Based on the results obtained above, the model that has the highest validation accuracy is Gradient Boosted Trees (GB) as opposed to the performances of the Decision Tree (DT) and Random Forest (RF) models. With better generalization performance, it even has a higher training accuracy as compared to other 2.\n",
        "\n",
        "3. To increase the accuracy of these tree-based models, we might want to imlement the following strategies:\n",
        "   - Increase the depth of the trees by increasing the `max_depth` parameter, the trees can capture more complex relationships in the data. However, there will be a great chance for overfitting the training data.\n",
        "   - Adjust the hyperparameters by trying different hyperparameter values, such as the number of estimators (`n_estimators`), learning rate (`learning_rate`), and other parameters specific to each model.\n",
        "</b></font>\n"
      ]
    },
    {
      "cell_type": "markdown",
      "id": "37b238f4",
      "metadata": {
        "id": "37b238f4"
      },
      "source": [
        "## **Process Description/How code was written/Sourcing etc**\n",
        "1. Where did you source your code?\n",
        "1. In what order did you complete the steps?\n",
        "1. If you used generative AI, what prompts did you use? Did you need to modify the code at all? Why or why not?"
      ]
    },
    {
      "cell_type": "markdown",
      "id": "93097bfe",
      "metadata": {
        "id": "93097bfe"
      },
      "source": [
        "<font color='Green'><b>\n",
        "\n",
        "Using the above written practice questions as guidance, the following layout is used to describe the process:\n",
        "1. The code I used in this Jupyter Notebook was sourced or writen by me and the existing cells information, where necessary.\n",
        "\n",
        "2. As per the professional steps carried out in real-world, I filled/completed these cells in the following order:\n",
        "    - Step 1: Data Input\n",
        "    - Step 2: Data Processing (No action was required by me)\n",
        "    - Step 3: Implement Machine Learning Model\n",
        "    - Step 4: Validate Model\n",
        "    - Step 5: Visualize Results\n",
        "    - Answring the questions\n",
        "\n",
        "3. No, I did not use generative AI for this. I manually wrote it based on the requirements.\n",
        "\n",
        "</b></font>"
      ]
    },
    {
      "cell_type": "markdown",
      "id": "f7c6de86",
      "metadata": {
        "id": "f7c6de86"
      },
      "source": [
        "# **Part 2: Classification**\n",
        "\n",
        "Developing code that can help the user classify different wine samples. Following the machine learning workflow, we will write the relevant code in each of the steps below:"
      ]
    },
    {
      "cell_type": "markdown",
      "id": "5f9d33a8",
      "metadata": {
        "id": "5f9d33a8"
      },
      "source": [
        "## **Step 1:** Data Input\n",
        "\n",
        "The data used for this task can be downloaded from UCI: https://archive.ics.uci.edu/dataset/109/wine\n",
        "\n",
        "Using the pandas library to load the dataset. And then defining the column headers if they are not included in the dataset. We will then split the dataset into feature matrix `X` and target vector `y` and print the size and type of `X` and `y`"
      ]
    },
    {
      "cell_type": "code",
      "execution_count": 5,
      "id": "33583c67",
      "metadata": {
        "id": "33583c67"
      },
      "outputs": [
        {
          "name": "stdout",
          "output_type": "stream",
          "text": [
            "2314 & 178\n"
          ]
        }
      ],
      "source": [
        "# Import wine dataset\n",
        "from ucimlrepo import fetch_ucirepo\n",
        "\n",
        "# Load the wine dataset\n",
        "wine = fetch_ucirepo(id=109)\n",
        "\n",
        "# data (as pandas dataframes)\n",
        "X = wine.data.features\n",
        "y = wine.data.targets\n",
        "\n",
        "# Print the shape of the dataset\n",
        "print(X.size, '&', y.size)"
      ]
    },
    {
      "cell_type": "markdown",
      "id": "156db208",
      "metadata": {
        "id": "156db208"
      },
      "source": [
        "## **Step 2:** Data Processing"
      ]
    },
    {
      "cell_type": "markdown",
      "id": "a28af110",
      "metadata": {
        "id": "a28af110"
      },
      "source": [
        "Printing the first five rows of the dataset to inspect:"
      ]
    },
    {
      "cell_type": "code",
      "execution_count": 6,
      "id": "ea266921",
      "metadata": {
        "id": "ea266921"
      },
      "outputs": [
        {
          "name": "stdout",
          "output_type": "stream",
          "text": [
            "   Alcohol  Malicacid   Ash  Alcalinity_of_ash  Magnesium  Total_phenols  \\\n",
            "0    14.23       1.71  2.43               15.6        127           2.80   \n",
            "1    13.20       1.78  2.14               11.2        100           2.65   \n",
            "2    13.16       2.36  2.67               18.6        101           2.80   \n",
            "3    14.37       1.95  2.50               16.8        113           3.85   \n",
            "4    13.24       2.59  2.87               21.0        118           2.80   \n",
            "\n",
            "   Flavanoids  Nonflavanoid_phenols  Proanthocyanins  Color_intensity   Hue  \\\n",
            "0        3.06                  0.28             2.29             5.64  1.04   \n",
            "1        2.76                  0.26             1.28             4.38  1.05   \n",
            "2        3.24                  0.30             2.81             5.68  1.03   \n",
            "3        3.49                  0.24             2.18             7.80  0.86   \n",
            "4        2.69                  0.39             1.82             4.32  1.04   \n",
            "\n",
            "   0D280_0D315_of_diluted_wines  Proline  \n",
            "0                          3.92     1065  \n",
            "1                          3.40     1050  \n",
            "2                          3.17     1185  \n",
            "3                          3.45     1480  \n",
            "4                          2.93      735   \n",
            "\n",
            "    class\n",
            "0      1\n",
            "1      1\n",
            "2      1\n",
            "3      1\n",
            "4      1\n"
          ]
        }
      ],
      "source": [
        "print(X.head(5), '\\n\\n', y.head(5))"
      ]
    },
    {
      "cell_type": "markdown",
      "id": "834fc8fe",
      "metadata": {
        "id": "834fc8fe"
      },
      "source": [
        "Checking to see if there are any missing values in the dataset. If necessary, selecting an appropriate method to fill-in the missing values"
      ]
    },
    {
      "cell_type": "code",
      "execution_count": 7,
      "id": "97c6e9dc",
      "metadata": {
        "id": "97c6e9dc"
      },
      "outputs": [
        {
          "name": "stdout",
          "output_type": "stream",
          "text": [
            "Alcohol                         0\n",
            "Malicacid                       0\n",
            "Ash                             0\n",
            "Alcalinity_of_ash               0\n",
            "Magnesium                       0\n",
            "Total_phenols                   0\n",
            "Flavanoids                      0\n",
            "Nonflavanoid_phenols            0\n",
            "Proanthocyanins                 0\n",
            "Color_intensity                 0\n",
            "Hue                             0\n",
            "0D280_0D315_of_diluted_wines    0\n",
            "Proline                         0\n",
            "dtype: int64 \n",
            "\n",
            " class    0\n",
            "dtype: int64\n"
          ]
        }
      ],
      "source": [
        "print(X.isnull().sum(), '\\n\\n', y.isnull().sum())"
      ]
    },
    {
      "cell_type": "markdown",
      "id": "070956af",
      "metadata": {
        "id": "070956af"
      },
      "source": [
        "Samples we have for each type of wine:"
      ]
    },
    {
      "cell_type": "code",
      "execution_count": 8,
      "id": "b37a6fd9",
      "metadata": {
        "id": "b37a6fd9"
      },
      "outputs": [
        {
          "name": "stdout",
          "output_type": "stream",
          "text": [
            "class\n",
            "2        71\n",
            "1        59\n",
            "3        48\n",
            "Name: count, dtype: int64\n"
          ]
        }
      ],
      "source": [
        "print(y.value_counts())"
      ]
    },
    {
      "cell_type": "markdown",
      "id": "70e6c46f",
      "metadata": {
        "id": "70e6c46f"
      },
      "source": [
        "## **Step 3:** Implement Machine Learning Model\n",
        "\n",
        "1. Importing `SVC` and `DecisionTreeClassifier` from sklearn\n",
        "2. Instantiating models as `SVC()` and `DecisionTreeClassifier(max_depth = 3)`\n",
        "3. Implementing the machine learning model with `X` and `y`"
      ]
    },
    {
      "cell_type": "markdown",
      "id": "0870b0d2",
      "metadata": {
        "id": "0870b0d2"
      },
      "source": [
        "## **Step 4:** Validate Model\n",
        "\n",
        "Calculating the average training and validation accuracy using `cross_validate` for the two different models listed in Step 3. For this case, we will use `scoring='accuracy'`"
      ]
    },
    {
      "cell_type": "markdown",
      "id": "bb0bbd83",
      "metadata": {
        "id": "bb0bbd83"
      },
      "source": [
        "## **Step 5:** Visualize Results\n",
        "\n",
        "### **Step 5.1:** Compare Models\n",
        "1. Creating a pandas DataFrame `results` with columns: Training accuracy and Validation accuracy\n",
        "2. Adding the data size, training and validation accuracy for each dataset to the `results` DataFrame\n",
        "3. Printing `results`"
      ]
    },
    {
      "cell_type": "code",
      "execution_count": 9,
      "id": "be4b5c0a",
      "metadata": {
        "id": "be4b5c0a"
      },
      "outputs": [
        {
          "name": "stdout",
          "output_type": "stream",
          "text": [
            "     Training accuracy  Validation accuracy\n",
            "SVC           0.719101             0.651685\n",
            "DTC           1.000000             0.904494\n"
          ]
        },
        {
          "name": "stderr",
          "output_type": "stream",
          "text": [
            "C:\\Users\\Muneeb Ali\\AppData\\Local\\Packages\\PythonSoftwareFoundation.Python.3.9_qbz5n2kfra8p0\\LocalCache\\local-packages\\Python39\\site-packages\\sklearn\\utils\\validation.py:1111: DataConversionWarning: A column-vector y was passed when a 1d array was expected. Please change the shape of y to (n_samples, ), for example using ravel().\n",
            "  y = column_or_1d(y, warn=True)\n",
            "C:\\Users\\Muneeb Ali\\AppData\\Local\\Packages\\PythonSoftwareFoundation.Python.3.9_qbz5n2kfra8p0\\LocalCache\\local-packages\\Python39\\site-packages\\sklearn\\utils\\validation.py:1111: DataConversionWarning: A column-vector y was passed when a 1d array was expected. Please change the shape of y to (n_samples, ), for example using ravel().\n",
            "  y = column_or_1d(y, warn=True)\n"
          ]
        }
      ],
      "source": [
        "from sklearn.svm import SVC\n",
        "from sklearn.tree import DecisionTreeClassifier\n",
        "\n",
        "# Instantiating the models\n",
        "svc_model = SVC(random_state=0)\n",
        "dtc_model = DecisionTreeClassifier(max_depth=3)\n",
        "\n",
        "# Defining the scoring metric for cross-validation (repetitive code)\n",
        "scoring_var = 'accuracy'\n",
        "\n",
        "# Performing cross-validation for each model\n",
        "svc_scores = cross_validate(svc_model, X, y, scoring=scoring_var, cv=2, return_train_score=True)\n",
        "dtc_scores = cross_validate(dtc_model, X, y, scoring=scoring_var, cv=2, return_train_score=True)\n",
        "\n",
        "# Results for the training and validation accuracy\n",
        "svc_train = svc_scores['train_score'].mean()\n",
        "dtc_train = dtc_scores['train_score'].mean()\n",
        "\n",
        "svc_test = svc_scores['test_score'].mean()\n",
        "dtc_test = dtc_scores['test_score'].mean()\n",
        "\n",
        "# Storing the results in a list\n",
        "tmp_results_test = [svc_test, dtc_test]\n",
        "tmp_results_train = [svc_train, dtc_train]\n",
        "new_results_test, new_results_train = [], []\n",
        "\n",
        "# Looping through the results and appending them to the list\n",
        "for i in range(len(tmp_results_test)):\n",
        "    new_results_train.append(tmp_results_train[i])\n",
        "    new_results_test.append(tmp_results_test[i])\n",
        "\n",
        "# Creating a pandas DataFrame to store the results\n",
        "results = pd.DataFrame({\"Training accuracy\": new_results_train, \"Validation accuracy\": new_results_test}, index=['SVC', 'DTC'])\n",
        "\n",
        "# Printing the results\n",
        "print(results)"
      ]
    },
    {
      "cell_type": "markdown",
      "id": "f2e17878",
      "metadata": {
        "id": "f2e17878"
      },
      "source": [
        "### **Step 5.2:** Visualize Classification Errors\n",
        "Using the method with highest accuracy to print the confusion matrix and classification report:"
      ]
    },
    {
      "cell_type": "code",
      "execution_count": 10,
      "id": "44b091a4",
      "metadata": {
        "id": "44b091a4"
      },
      "outputs": [],
      "source": [
        "# Implement best model\n",
        "from sklearn.model_selection import train_test_split\n",
        "\n",
        "# Splitting the dataset into training and testing sets\n",
        "X_train, X_test, y_train, y_test = train_test_split(X, y, test_size=0.2, random_state=0)\n",
        "\n",
        "# Using the best model\n",
        "best_model = dtc_model\n",
        "\n",
        "# Fitting the best model\n",
        "best_model.fit(X_train, y_train)\n",
        "\n",
        "# Making predictions\n",
        "y_pred = best_model.predict(X_test)"
      ]
    },
    {
      "cell_type": "code",
      "execution_count": 11,
      "id": "09d21b59",
      "metadata": {
        "id": "09d21b59"
      },
      "outputs": [
        {
          "data": {
            "image/png": "[encoded data removed]",
            "text/plain": [
              "<Figure size 800x600 with 2 Axes>"
            ]
          },
          "metadata": {},
          "output_type": "display_data"
        }
      ],
      "source": [
        "# Print confusion matrix using a heatmap\n",
        "from sklearn.metrics import confusion_matrix\n",
        "import seaborn as sns\n",
        "\n",
        "# Calculate the confusion matrix\n",
        "cm = confusion_matrix(y_test, y_pred)\n",
        "\n",
        "# Plot the confusion matrix using a heatmap\n",
        "plt.figure(figsize=(8, 6))\n",
        "sns.heatmap(cm, annot=True, fmt='d', xticklabels=[\"1\",\"2\",\"3\"], yticklabels=[\"1\",\"2\",\"3\"])\n",
        "plt.title('Confusion Matrix')\n",
        "plt.xlabel('Predicted')\n",
        "plt.ylabel('Actual')\n",
        "plt.show()\n"
      ]
    },
    {
      "cell_type": "code",
      "execution_count": 12,
      "id": "5ef95947",
      "metadata": {
        "id": "5ef95947"
      },
      "outputs": [
        {
          "name": "stdout",
          "output_type": "stream",
          "text": [
            "              precision    recall  f1-score   support\n",
            "\n",
            "           1       0.93      1.00      0.97        14\n",
            "           2       1.00      0.94      0.97        16\n",
            "           3       1.00      1.00      1.00         6\n",
            "\n",
            "    accuracy                           0.97        36\n",
            "   macro avg       0.98      0.98      0.98        36\n",
            "weighted avg       0.97      0.97      0.97        36\n",
            "\n"
          ]
        }
      ],
      "source": [
        "from sklearn.metrics import classification_report\n",
        "\n",
        "# Print the classification report\n",
        "print(classification_report(y_test, y_pred))"
      ]
    },
    {
      "cell_type": "markdown",
      "id": "bf319621",
      "metadata": {
        "id": "bf319621"
      },
      "source": [
        "## **Practice descriptive questions & answers for theoratical understanding**\n",
        "1. How do the training and validation accuracy change depending on the method used? Explain with values.\n",
        "1. What are two reasons why the support vector machines model did not work as well as the tree-based model?\n",
        "1. How many samples were incorrectly classified in step 5.2?\n",
        "1. In this case, is maximizing precision or recall more important? Why?"
      ]
    },
    {
      "cell_type": "markdown",
      "id": "1FQstcwnXXng",
      "metadata": {
        "id": "1FQstcwnXXng"
      },
      "source": [
        "<font color='Green'><b>\n",
        "1. Training accuracy came out to be better for tree based model as compared to support vector machines model, as observed in above cells. The training accuracy for the Decision Tree (DT) model was 1.000000 but for the Support Vector (SVC) model, it is very poor of 0.719101 which is underfitting perhaps. As for validation accuracies, the Decision Tree (DT) model attained 0.921348 but for the Support Vector (SVC) model, it is 0.651685 which is also very poor. Even in this case, the tree-based model is performing better than the support vector machines model. Refer to the results printed in the above cells or the copy of results printed below.\n",
        "\n",
        "   ```\n",
        "            Training accuracy  Validation accuracy\n",
        "   SVC               0.719101             0.651685\n",
        "   DTC               1.000000             0.921348\n",
        "   ```\n",
        "\n",
        "2. The support vector machines model did not work as well as the tree-based model possibly due to the following reasons:\n",
        "   - SVC is not able to capture the complex and non-linear relationships in the data.\n",
        "   - SVC is sensitive to the choice of the kernel and the hyperparameters so it might not be tuned properly.\n",
        "\n",
        "3. The number of samples that were incorrectly classified in step 5.2 is 1 in `Actual` of index mentioned `2`. Refer to the confusion matrix printed in the above cells or the copy of confusion matrix printed below.\n",
        "\n",
        "   ```\n",
        "   [ 14  0  0 ]\n",
        "   [ 1  15  0 ]\n",
        "   [ 0   0  6 ]\n",
        "   ```\n",
        "\n",
        "4. Even though both of them are crucial but in this case, maximizing recall is more important than precision. Since we want to minimize the number of false negatives, we want to make sure that we are able to correctly identify all the positive samples, even if it means that we have a few false positives. Maximizing precision would mean that model will be certain of whatever it predicts, but it will miss out on a lot of positive samples. \n",
        "\n",
        "</b></font>"
      ]
    },
    {
      "cell_type": "markdown",
      "id": "664ff8ae",
      "metadata": {
        "id": "664ff8ae"
      },
      "source": [
        "## **Process Description/How code was written/Sourcing etc**\n",
        "1. Where did you source your code?\n",
        "1. In what order did you complete the steps?\n",
        "1. If you used generative AI, what prompts did you use? Did you need to modify the code at all? Why or why not?"
      ]
    },
    {
      "cell_type": "markdown",
      "id": "d0e837da",
      "metadata": {
        "id": "d0e837da"
      },
      "source": [
        "<font color='Green'><b>\n",
        "\n",
        "Using the above written practice questions as guidance, the following layout is used to describe the process:\n",
        "1. The code I used in this Jupyter Notebook was sourced or writen by me and the existing cells information, where necessary.\n",
        "\n",
        "2. As per the professional steps carried out in real-world, I filled/completed these cells in the following order:\n",
        "    - Step 1: Data Input\n",
        "    - Step 2: Data Processing\n",
        "    - Step 3: Implement Machine Learning Model\n",
        "    - Step 4: Validate Model\n",
        "    - Step 5: Visualize Results and compare models\n",
        "    - Answring the questions\n",
        "\n",
        "3. No, I did not use generative AI for this. I manually wrote it based on the requirements.\n",
        "\n",
        "</b></font>"
      ]
    },
    {
      "cell_type": "markdown",
      "id": "fa21e53b",
      "metadata": {
        "id": "fa21e53b"
      },
      "source": [
        "## **Part 3:** LinearSVC\n",
        "\n",
        "Repeating Part 2 and comparing the support vector machines model used to `LinearSVC(max_iter=5000)`."
      ]
    },
    {
      "cell_type": "code",
      "execution_count": 13,
      "id": "30fea72e",
      "metadata": {
        "id": "30fea72e"
      },
      "outputs": [
        {
          "name": "stdout",
          "output_type": "stream",
          "text": [
            "            Training accuracy  Validation accuracy\n",
            "Linear SVC           0.820225             0.797753\n"
          ]
        },
        {
          "name": "stderr",
          "output_type": "stream",
          "text": [
            "C:\\Users\\Muneeb Ali\\AppData\\Local\\Packages\\PythonSoftwareFoundation.Python.3.9_qbz5n2kfra8p0\\LocalCache\\local-packages\\Python39\\site-packages\\sklearn\\utils\\validation.py:1111: DataConversionWarning: A column-vector y was passed when a 1d array was expected. Please change the shape of y to (n_samples, ), for example using ravel().\n",
            "  y = column_or_1d(y, warn=True)\n",
            "C:\\Users\\Muneeb Ali\\AppData\\Local\\Packages\\PythonSoftwareFoundation.Python.3.9_qbz5n2kfra8p0\\LocalCache\\local-packages\\Python39\\site-packages\\sklearn\\svm\\_base.py:1225: ConvergenceWarning: Liblinear failed to converge, increase the number of iterations.\n",
            "  warnings.warn(\n",
            "C:\\Users\\Muneeb Ali\\AppData\\Local\\Packages\\PythonSoftwareFoundation.Python.3.9_qbz5n2kfra8p0\\LocalCache\\local-packages\\Python39\\site-packages\\sklearn\\utils\\validation.py:1111: DataConversionWarning: A column-vector y was passed when a 1d array was expected. Please change the shape of y to (n_samples, ), for example using ravel().\n",
            "  y = column_or_1d(y, warn=True)\n",
            "C:\\Users\\Muneeb Ali\\AppData\\Local\\Packages\\PythonSoftwareFoundation.Python.3.9_qbz5n2kfra8p0\\LocalCache\\local-packages\\Python39\\site-packages\\sklearn\\svm\\_base.py:1225: ConvergenceWarning: Liblinear failed to converge, increase the number of iterations.\n",
            "  warnings.warn(\n"
          ]
        }
      ],
      "source": [
        "from sklearn.svm import LinearSVC\n",
        "from sklearn.model_selection import cross_validate\n",
        "\n",
        "# Instantiating the LinearSVC model\n",
        "linear_svc_model = LinearSVC(max_iter=5000, random_state=0)\n",
        "scoring_var = 'accuracy'\n",
        "\n",
        "# Performing cross-validation for LinearSVC model\n",
        "linear_svc_scores = cross_validate(linear_svc_model, X, y, scoring=scoring_var, cv=2, return_train_score=True)\n",
        "\n",
        "# Results for the training and validation accuracy\n",
        "linear_svc_train = linear_svc_scores['train_score'].mean()\n",
        "linear_svc_test = linear_svc_scores['test_score'].mean()\n",
        "\n",
        "train_results, validation_results = [], []\n",
        "train_results.append(linear_svc_train)\n",
        "validation_results.append(linear_svc_test)\n",
        "\n",
        "# Creating a pandas DataFrame to store the results\n",
        "results = pd.DataFrame({\"Training accuracy\": train_results, \"Validation accuracy\": validation_results}, index=['Linear SVC'])\n",
        "\n",
        "# Printing the results\n",
        "print(results)\n"
      ]
    },
    {
      "cell_type": "markdown",
      "id": "aabc68a4",
      "metadata": {
        "id": "aabc68a4"
      },
      "source": [
        "<font color='Green'><b> NOTE:\n",
        "\n",
        "Using `LinearSVC` improves the results. Training accuracy jumped from 0.719101 to 0.820225 and Validation accuracy jumped from 0.651685 to 0.797753. It helps a little but not as much as we would have expected since model is still underfitting. And withou scaling the features, it is not a good fit for this dataset at this point. Refer to the results printed in the above cells or the copy of results printed below.\n",
        "\n",
        "```\n",
        "               Training accuracy  Validation accuracy\n",
        "SVC                     0.719101             0.651685\n",
        "Linear SVC              0.820225             0.797753\n",
        "```\n",
        "\n",
        "</b></font>"
      ]
    }
  ],
  "metadata": {
    "colab": {
      "provenance": []
    },
    "kernelspec": {
      "display_name": "Python 3 (ipykernel)",
      "language": "python",
      "name": "python3"
    },
    "language_info": {
      "codemirror_mode": {
        "name": "ipython",
        "version": 3
      },
      "file_extension": ".py",
      "mimetype": "text/x-python",
      "name": "python",
      "nbconvert_exporter": "python",
      "pygments_lexer": "ipython3",
      "version": "3.9.13"
    }
  },
  "nbformat": 4,
  "nbformat_minor": 5
}
